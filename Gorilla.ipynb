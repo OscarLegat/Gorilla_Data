{
  "nbformat": 4,
  "nbformat_minor": 0,
  "metadata": {
    "colab": {
      "name": "Gorilla.ipynb",
      "provenance": [],
      "collapsed_sections": []
    },
    "kernelspec": {
      "name": "python3",
      "display_name": "Python 3"
    },
    "language_info": {
      "name": "python"
    }
  },
  "cells": [
    {
      "cell_type": "markdown",
      "source": [
        "# **`INSTALLATIONS`**"
      ],
      "metadata": {
        "id": "4IzeKwIaAldU"
      }
    },
    {
      "cell_type": "code",
      "source": [
        "#Installing and importing dask\n",
        "\n",
        "DASK_IMPORTED = False\n",
        "\n",
        "try:\n",
        "    import dask\n",
        "    import dask.dataframe as dd\n",
        "except ModuleNotFoundError:\n",
        "   print (\"Trying to to install dask\")\n",
        "   %pip install \"dask[complete]\"\n",
        "   import dask\n",
        "   import dask.dataframe as dd\n",
        "\n",
        "\n",
        "\n",
        "try:\n",
        "    import dask\n",
        "    import dask.dataframe as dd\n",
        "    DASK_IMPORTED = True\n",
        "except ModuleNotFoundError:\n",
        "    pass\n",
        "   "
      ],
      "metadata": {
        "id": "82eyQSB-2b2n"
      },
      "execution_count": 98,
      "outputs": []
    },
    {
      "cell_type": "code",
      "source": [
        "#Installing and importing codetiming\n",
        "\n",
        "CODETIMIMG_IMPORTED = False\n",
        "\n",
        "\n",
        "try:\n",
        "    import codetiming\n",
        "except ModuleNotFoundError:\n",
        "   print (\"Trying to to install codetiming\")\n",
        "   %pip install codetiming\n",
        "   import codetiming\n",
        "\n",
        "\n",
        "try:\n",
        "    import codetiming\n",
        "    CODETIMIMG_IMPORTED = True\n",
        "except ModuleNotFoundError:\n",
        "    pass"
      ],
      "metadata": {
        "id": "5f6dUi9G2iio"
      },
      "execution_count": null,
      "outputs": []
    },
    {
      "cell_type": "markdown",
      "source": [
        "# **IMPORTS**"
      ],
      "metadata": {
        "id": "_45fRKF4BAez"
      }
    },
    {
      "cell_type": "code",
      "execution_count": null,
      "metadata": {
        "id": "v_akACRPQ-Kv"
      },
      "outputs": [],
      "source": [
        "import pandas as pd\n",
        "from pandas.core.frame import DataFrame\n",
        "import numpy as np\n",
        "import random\n",
        "from datetime import date, datetime, timedelta\n"
      ]
    },
    {
      "cell_type": "markdown",
      "source": [
        "# **DETECTING COLAB**"
      ],
      "metadata": {
        "id": "kKMEGiWHBwAR"
      }
    },
    {
      "cell_type": "code",
      "source": [
        "try:\n",
        "  import google.colab\n",
        "  IN_COLAB = True\n",
        "except:\n",
        "  IN_COLAB = False"
      ],
      "metadata": {
        "id": "CGEq9-ojBfSo"
      },
      "execution_count": null,
      "outputs": []
    },
    {
      "cell_type": "code",
      "source": [
        "# Mounting drive using the following commands:\n",
        "\n",
        "if IN_COLAB == True :\n",
        "  from google.colab import drive\n",
        "  drive.mount('/content/drive')"
      ],
      "metadata": {
        "colab": {
          "base_uri": "https://localhost:8080/"
        },
        "id": "4j3Ls66TSc61",
        "outputId": "e3ec803c-8778-4900-ee78-6eac45035623"
      },
      "execution_count": null,
      "outputs": [
        {
          "output_type": "stream",
          "name": "stdout",
          "text": [
            "Drive already mounted at /content/drive; to attempt to forcibly remount, call drive.mount(\"/content/drive\", force_remount=True).\n"
          ]
        }
      ]
    },
    {
      "cell_type": "markdown",
      "source": [
        "# **FILE'S PATH**"
      ],
      "metadata": {
        "id": "4iquZx-sCFyW"
      }
    },
    {
      "cell_type": "code",
      "source": [
        "myPath = \"/content/drive/My Drive/Colab Notebooks/gorilla/gorilla_test_data.xlsx\""
      ],
      "metadata": {
        "id": "ex8AjCbzCAgP"
      },
      "execution_count": null,
      "outputs": []
    },
    {
      "cell_type": "markdown",
      "source": [
        "# **LOADING AND PREPARING DATA**"
      ],
      "metadata": {
        "id": "rhV3cxlxCdIt"
      }
    },
    {
      "cell_type": "code",
      "source": [
        "#Reading data\n",
        "df_meter_list = pd.read_excel(myPath, sheet_name='meter_list')\n",
        "df_forecast_table = pd.read_excel(myPath, sheet_name='forecast_table')\n",
        "df_rate_table = pd.read_excel(myPath, sheet_name='rate_table')"
      ],
      "metadata": {
        "id": "07h0rNGTRYTC"
      },
      "execution_count": null,
      "outputs": []
    },
    {
      "cell_type": "code",
      "source": [
        "#Treating nans\n",
        "df_rate_table[\"aq_min_kwh\"].fillna(-np.inf, inplace = True)\n",
        "df_rate_table[\"aq_max_kwh\"].fillna(np.inf, inplace = True) "
      ],
      "metadata": {
        "id": "sSmixFaL27vT"
      },
      "execution_count": null,
      "outputs": []
    },
    {
      "cell_type": "code",
      "source": [
        "#I want to differentiate between reference date for calculation and tariff efect\n",
        "df_rate_table.rename(columns={'date': 'date_rate'}, inplace=True)"
      ],
      "metadata": {
        "id": "fmKMAQwR860n"
      },
      "execution_count": null,
      "outputs": []
    },
    {
      "cell_type": "code",
      "source": [
        "#Dask DataFrames\n",
        "if DASK_IMPORTED == True :\n",
        "  ddf_meter_list = dd.from_pandas(df_meter_list, npartitions=10)\n",
        "  ddf_forecast_table = dd.from_pandas(df_forecast_table, npartitions=10)\n",
        "  ddf_rate_table = dd.from_pandas(df_rate_table, npartitions=10)"
      ],
      "metadata": {
        "id": "6hX6f2wQGvLd"
      },
      "execution_count": null,
      "outputs": []
    },
    {
      "cell_type": "code",
      "source": [
        "def agg_sum(variable):  \n",
        "    variable_sum = variable.mean()  \n",
        "    return round(variable_sum, 2)"
      ],
      "metadata": {
        "id": "f3Dxc9HaJ0Hh"
      },
      "execution_count": null,
      "outputs": []
    },
    {
      "cell_type": "markdown",
      "source": [
        "# **Calculating Transportation Cost Table Apply Functions**"
      ],
      "metadata": {
        "id": "71PZpeWzUCKX"
      }
    },
    {
      "cell_type": "code",
      "source": [
        "def update_rating_tariff(row , tariff_table):\n",
        "  \n",
        "  reference_date = row['date'] \n",
        "  aq_kwh = row['aq_kwh'] \n",
        "  exit_zone = row['exit_zone']\n",
        "\n",
        "  #Filtering by Constraints\n",
        "  tariff_table_filtered = tariff_table[(tariff_table['exit_zone'] == exit_zone) & (tariff_table['date_rate'] <= reference_date) & (aq_kwh >= tariff_table['aq_min_kwh']) & (aq_kwh <= tariff_table['aq_max_kwh'])]\n",
        "\n",
        "  #Recovering the last valid tariff by date rate\n",
        "  tariff_table_filtered_max_date = tariff_table_filtered[tariff_table_filtered['date_rate'] == tariff_table_filtered.date_rate.max()]\n",
        "  result = tariff_table_filtered_max_date[:1]['rate_p_per_kwh'].values[0]\n",
        "  row['rate_p_per_kwh'] = result\n",
        "\n",
        "  return row\n",
        "\n"
      ],
      "metadata": {
        "id": "GT8liuXZYIxf"
      },
      "execution_count": null,
      "outputs": []
    },
    {
      "cell_type": "code",
      "source": [
        "def transportation_cost_table_with_apply(df_rate_table = None, df_meter_list  = None, df_forecast_table  = None):\n",
        "\n",
        "  #Composing data of meters\n",
        "  df_forecast_table_op1 =  pd.merge(df_forecast_table, df_meter_list, how=\"left\", on=[\"meter_id\"])\n",
        "  \n",
        "  #Adding the rate_p_per_kwh\n",
        "  df_forecast_table_op1['rate_p_per_kwh'] = 0.0\n",
        "\n",
        "  df_forecast_table_op1 = df_forecast_table_op1.apply(lambda x: update_rating_tariff(row = x, tariff_table = df_rate_table ), axis = 1)\n",
        "\n",
        "  #Cost (£)\n",
        "  df_forecast_table_op1['Cost£'] = df_forecast_table_op1['kwh'] * df_forecast_table_op1['kwh'] * 0.01\n",
        "\n",
        "  tcostTable = df_forecast_table_op1[['meter_id','kwh','Cost£']].groupby('meter_id').agg(agg_sum)\n",
        "\n",
        "  return tcostTable "
      ],
      "metadata": {
        "id": "5UjiLlY3WG-U"
      },
      "execution_count": null,
      "outputs": []
    },
    {
      "cell_type": "code",
      "source": [
        "\n",
        "if DASK_IMPORTED == True :\n",
        "\n",
        "  def dask_transportation_cost_table_with_apply(ddf_rate_table = None, ddf_meter_list  = None, ddf_forecast_table  = None):\n",
        "\n",
        "    #Composing data of meters\n",
        "    ddf_forecast_table_op1 =  ddf_forecast_table.merge(ddf_meter_list, how=\"left\", on=[\"meter_id\"])\n",
        "  \n",
        "    #Adding the rate_p_per_kwh\n",
        "    ddf_forecast_table_op1['rate_p_per_kwh'] = 0.0\n",
        "\n",
        "    ddf_forecast_table_op1 = ddf_forecast_table_op1.apply(lambda x: update_rating_tariff(row = x, tariff_table = df_rate_table ), axis = 1, meta=ddf_forecast_table_op1)\n",
        "\n",
        "    #Cost (£)\n",
        "    ddf_forecast_table_op1['Cost£'] = ddf_forecast_table_op1['kwh'] * ddf_forecast_table_op1['kwh'] * 0.01\n",
        "\n",
        "    custom_agg = dd.Aggregation('custom_agg', chunk = agg_sum, agg = agg_sum)\n",
        "    tcostTable = ddf_forecast_table_op1[['meter_id','kwh','Cost£']].groupby('meter_id').agg(custom_agg)\n",
        "\n",
        "    return tcostTable "
      ],
      "metadata": {
        "id": "TfSjbVHJQO0K"
      },
      "execution_count": null,
      "outputs": []
    },
    {
      "cell_type": "markdown",
      "source": [
        "# **Calculating Transportation Cost Table Merge Functions**"
      ],
      "metadata": {
        "id": "gYGpgk6_UUjr"
      }
    },
    {
      "cell_type": "code",
      "source": [
        "  df_forecast_table_c = df_forecast_table.copy()\n",
        "  df_meter_list_c = df_meter_list.copy()\n",
        "  df_forecast_table_c.set_index('meter_id', inplace=True)\n",
        "  df_meter_list_c.set_index('meter_id', inplace=True)\n",
        "  df_forecast_table_op1 =  pd.merge(df_forecast_table, df_meter_list, right_index= True, left_index= True, how=\"left\")\n"
      ],
      "metadata": {
        "id": "3F_aHJ6Minpg"
      },
      "execution_count": null,
      "outputs": []
    },
    {
      "cell_type": "code",
      "source": [
        ""
      ],
      "metadata": {
        "id": "xxWzugbyi9on"
      },
      "execution_count": null,
      "outputs": []
    },
    {
      "cell_type": "code",
      "source": [
        "def transportation_cost_table_with_merge(df_rate_table = None, df_meter_list  = None, df_forecast_table  = None):\n",
        "\n",
        "  #Composing data of meters\n",
        "  df_forecast_table_op1 =  pd.merge(df_forecast_table, df_meter_list, how=\"left\", on=[\"meter_id\"])\n",
        "\n",
        "  df_unique_parameters_to_rate = df_forecast_table_op1.drop(columns=['meter_id', 'kwh']).groupby(['date','exit_zone', 'aq_kwh']).count().reset_index()\n",
        "  df_unique_parameters_to_rate.drop_duplicates(inplace=True)\n",
        "\n",
        "  #Adding parameters from tariff\n",
        "  df_unique_parameters_to_rate = pd.merge(df_unique_parameters_to_rate, df_rate_table, how=\"left\", on=['exit_zone'])\n",
        "\n",
        "  df_unique_parameters_to_rate.drop_duplicates(inplace=True)\n",
        "\n",
        "  #Reducing by constraints\n",
        "  df_unique_parameters_to_rate = df_unique_parameters_to_rate[(df_unique_parameters_to_rate['date_rate'] <= df_unique_parameters_to_rate['date']) & (df_unique_parameters_to_rate['aq_kwh'] >= df_unique_parameters_to_rate['aq_min_kwh']) & (df_unique_parameters_to_rate['aq_kwh'] <= df_unique_parameters_to_rate['aq_max_kwh'])]\n",
        "\n",
        "  #We do not need 'aq_min_kwh' & 'aq_max_kwh'\n",
        "  df_unique_parameters_to_rate.drop(columns=['aq_min_kwh','aq_max_kwh'], inplace=True)\n",
        "\n",
        "  #Selecting as valid rate the correpondant with the last rating date\n",
        "  df_unique_parameters_to_rate_op1 = df_unique_parameters_to_rate.groupby(['date','exit_zone', 'aq_kwh'], sort=False)['date_rate'].max().reset_index(name='date_rate')\n",
        "  df_unique_parameters_to_rate_op1.drop_duplicates(inplace=True)\n",
        "\n",
        "  #Restoring rate_p_per_kwh\n",
        "  df_unique_parameters_to_rate = pd.merge(df_unique_parameters_to_rate_op1,df_unique_parameters_to_rate,  how=\"left\", on=['date','date_rate','exit_zone', 'aq_kwh'])\n",
        "\n",
        "  df_forecast_table_op2 =  pd.merge(df_forecast_table_op1, df_unique_parameters_to_rate, how=\"left\", on=['date','exit_zone', 'aq_kwh'])\n",
        "\n",
        "  #Cost (£)\n",
        "  df_forecast_table_op2['Cost£'] = df_forecast_table_op2['kwh'] * df_forecast_table_op2['kwh'] * 0.01\n",
        "\n",
        "  tcostTable = df_forecast_table_op2[['meter_id','kwh','Cost£']].groupby('meter_id').agg(agg_sum)\n",
        "\n",
        "  return tcostTable \n",
        "\n"
      ],
      "metadata": {
        "id": "hhyo_30L1Sah"
      },
      "execution_count": null,
      "outputs": []
    },
    {
      "cell_type": "code",
      "source": [
        "if DASK_IMPORTED == True :\n",
        "\n",
        "  def dask_transportation_cost_table_with_merge(ddf_rate_table = None, ddf_meter_list  = None, ddf_forecast_table  = None):\n",
        "\n",
        "    #Composing data of meters\n",
        "    ddf_forecast_table_op1 =  ddf_forecast_table.merge(df_meter_list, how=\"left\", on=[\"meter_id\"])\n",
        "\n",
        "    ddf_unique_parameters_to_rate = ddf_forecast_table_op1.drop(columns=['meter_id', 'kwh']).groupby(['date','exit_zone', 'aq_kwh']).count().reset_index()\n",
        "    ddf_unique_parameters_to_rate.drop_duplicates(inplace=True)\n",
        "\n",
        "    #Adding parameters from tariff\n",
        "    ddf_unique_parameters_to_rate = ddf_unique_parameters_to_rate.merge(ddf_rate_table, how=\"left\", on=['exit_zone'])\n",
        "\n",
        "    ddf_unique_parameters_to_rate.drop_duplicates(inplace=True)\n",
        "\n",
        "    #Reducing by constraints\n",
        "    ddf_unique_parameters_to_rate = ddf_unique_parameters_to_rate[(ddf_unique_parameters_to_rate['date_rate'] <= ddf_unique_parameters_to_rate['date']) & (ddf_unique_parameters_to_rate['aq_kwh'] >= ddf_unique_parameters_to_rate['aq_min_kwh']) & (ddf_unique_parameters_to_rate['aq_kwh'] <= ddf_unique_parameters_to_rate['aq_max_kwh'])]\n",
        "\n",
        "    #We do not need 'aq_min_kwh' & 'aq_max_kwh'\n",
        "    ddf_unique_parameters_to_rate = ddf_unique_parameters_to_rate.drop(columns=['aq_min_kwh','aq_max_kwh'])\n",
        "\n",
        "    #Selecting as valid rate the correpondant with the last rating date\n",
        "    ddf_unique_parameters_to_rate_op1 = ddf_unique_parameters_to_rate.groupby(['date','exit_zone', 'aq_kwh'], sort=False)['date_rate'].max().compute().reset_index()\n",
        "    #ddf_unique_parameters_to_rate_op1 = ddf_unique_parameters_to_rate_op1.compute()\n",
        "    ddf_unique_parameters_to_rate_op1 = ddf_unique_parameters_to_rate_op1.rename(columns={'index': 'date_rate'})\n",
        "    ddf_unique_parameters_to_rate_op1 = dd.from_pandas(ddf_unique_parameters_to_rate_op1, npartitions=10)\n",
        "\n",
        "\n",
        "    print(ddf_unique_parameters_to_rate_op1.columns)\n",
        "    #print(ddf_unique_parameters_to_rate_op1.shape[0]) \n",
        "  \n",
        "    ddf_unique_parameters_to_rate_op1 = ddf_unique_parameters_to_rate_op1.drop_duplicates()\n",
        "\n",
        "    #Restoring rate_p_per_kwh\n",
        "    ddf_unique_parameters_to_rate = ddf_unique_parameters_to_rate_op1.merge(ddf_unique_parameters_to_rate,  how=\"left\", on=['date','date_rate','exit_zone', 'aq_kwh'])\n",
        "\n",
        "    ddf_forecast_table_op2 =  ddf_forecast_table_op1.merge(ddf_unique_parameters_to_rate, how=\"left\", on=['date','exit_zone', 'aq_kwh'])\n",
        "\n",
        "    #Cost (£)\n",
        "    ddf_forecast_table_op2['Cost£'] = ddf_forecast_table_op2['kwh'] * ddf_forecast_table_op2['kwh'] * 0.01\n",
        "\n",
        "    custom_agg = dd.Aggregation('custom_agg', chunk = agg_sum, agg = agg_sum)\n",
        "    tcostTable = ddf_forecast_table_op2[['meter_id','kwh','Cost£']].groupby('meter_id').agg(custom_agg).compute()\n",
        "\n",
        "    return tcostTable "
      ],
      "metadata": {
        "id": "L_uqO8BWH01r"
      },
      "execution_count": null,
      "outputs": []
    },
    {
      "cell_type": "markdown",
      "source": [
        "# **FIRST EXERCISE**"
      ],
      "metadata": {
        "id": "MPFsifN7WBa_"
      }
    },
    {
      "cell_type": "markdown",
      "source": [
        "# **Using Apply**"
      ],
      "metadata": {
        "id": "-t295s8TyPLn"
      }
    },
    {
      "cell_type": "code",
      "source": [
        "transportation_cost_table = transportation_cost_table_with_apply(df_rate_table, df_meter_list, df_forecast_table)\n",
        "transportation_cost_table.head()"
      ],
      "metadata": {
        "id": "foRccxM20YlH",
        "colab": {
          "base_uri": "https://localhost:8080/",
          "height": 206
        },
        "outputId": "7c4dbdbd-4469-4840-863c-2d27b14d47c7"
      },
      "execution_count": null,
      "outputs": [
        {
          "output_type": "execute_result",
          "data": {
            "text/plain": [
              "             kwh    Cost£\n",
              "meter_id                 \n",
              "14676236   33.97    13.84\n",
              "34509937   91.82   102.64\n",
              "50264822  311.45  1216.58\n",
              "88357331  567.88  3884.36"
            ],
            "text/html": [
              "\n",
              "  <div id=\"df-90a9e1bb-f018-4265-8042-5a5c1675f871\">\n",
              "    <div class=\"colab-df-container\">\n",
              "      <div>\n",
              "<style scoped>\n",
              "    .dataframe tbody tr th:only-of-type {\n",
              "        vertical-align: middle;\n",
              "    }\n",
              "\n",
              "    .dataframe tbody tr th {\n",
              "        vertical-align: top;\n",
              "    }\n",
              "\n",
              "    .dataframe thead th {\n",
              "        text-align: right;\n",
              "    }\n",
              "</style>\n",
              "<table border=\"1\" class=\"dataframe\">\n",
              "  <thead>\n",
              "    <tr style=\"text-align: right;\">\n",
              "      <th></th>\n",
              "      <th>kwh</th>\n",
              "      <th>Cost£</th>\n",
              "    </tr>\n",
              "    <tr>\n",
              "      <th>meter_id</th>\n",
              "      <th></th>\n",
              "      <th></th>\n",
              "    </tr>\n",
              "  </thead>\n",
              "  <tbody>\n",
              "    <tr>\n",
              "      <th>14676236</th>\n",
              "      <td>33.97</td>\n",
              "      <td>13.84</td>\n",
              "    </tr>\n",
              "    <tr>\n",
              "      <th>34509937</th>\n",
              "      <td>91.82</td>\n",
              "      <td>102.64</td>\n",
              "    </tr>\n",
              "    <tr>\n",
              "      <th>50264822</th>\n",
              "      <td>311.45</td>\n",
              "      <td>1216.58</td>\n",
              "    </tr>\n",
              "    <tr>\n",
              "      <th>88357331</th>\n",
              "      <td>567.88</td>\n",
              "      <td>3884.36</td>\n",
              "    </tr>\n",
              "  </tbody>\n",
              "</table>\n",
              "</div>\n",
              "      <button class=\"colab-df-convert\" onclick=\"convertToInteractive('df-90a9e1bb-f018-4265-8042-5a5c1675f871')\"\n",
              "              title=\"Convert this dataframe to an interactive table.\"\n",
              "              style=\"display:none;\">\n",
              "        \n",
              "  <svg xmlns=\"http://www.w3.org/2000/svg\" height=\"24px\"viewBox=\"0 0 24 24\"\n",
              "       width=\"24px\">\n",
              "    <path d=\"M0 0h24v24H0V0z\" fill=\"none\"/>\n",
              "    <path d=\"M18.56 5.44l.94 2.06.94-2.06 2.06-.94-2.06-.94-.94-2.06-.94 2.06-2.06.94zm-11 1L8.5 8.5l.94-2.06 2.06-.94-2.06-.94L8.5 2.5l-.94 2.06-2.06.94zm10 10l.94 2.06.94-2.06 2.06-.94-2.06-.94-.94-2.06-.94 2.06-2.06.94z\"/><path d=\"M17.41 7.96l-1.37-1.37c-.4-.4-.92-.59-1.43-.59-.52 0-1.04.2-1.43.59L10.3 9.45l-7.72 7.72c-.78.78-.78 2.05 0 2.83L4 21.41c.39.39.9.59 1.41.59.51 0 1.02-.2 1.41-.59l7.78-7.78 2.81-2.81c.8-.78.8-2.07 0-2.86zM5.41 20L4 18.59l7.72-7.72 1.47 1.35L5.41 20z\"/>\n",
              "  </svg>\n",
              "      </button>\n",
              "      \n",
              "  <style>\n",
              "    .colab-df-container {\n",
              "      display:flex;\n",
              "      flex-wrap:wrap;\n",
              "      gap: 12px;\n",
              "    }\n",
              "\n",
              "    .colab-df-convert {\n",
              "      background-color: #E8F0FE;\n",
              "      border: none;\n",
              "      border-radius: 50%;\n",
              "      cursor: pointer;\n",
              "      display: none;\n",
              "      fill: #1967D2;\n",
              "      height: 32px;\n",
              "      padding: 0 0 0 0;\n",
              "      width: 32px;\n",
              "    }\n",
              "\n",
              "    .colab-df-convert:hover {\n",
              "      background-color: #E2EBFA;\n",
              "      box-shadow: 0px 1px 2px rgba(60, 64, 67, 0.3), 0px 1px 3px 1px rgba(60, 64, 67, 0.15);\n",
              "      fill: #174EA6;\n",
              "    }\n",
              "\n",
              "    [theme=dark] .colab-df-convert {\n",
              "      background-color: #3B4455;\n",
              "      fill: #D2E3FC;\n",
              "    }\n",
              "\n",
              "    [theme=dark] .colab-df-convert:hover {\n",
              "      background-color: #434B5C;\n",
              "      box-shadow: 0px 1px 3px 1px rgba(0, 0, 0, 0.15);\n",
              "      filter: drop-shadow(0px 1px 2px rgba(0, 0, 0, 0.3));\n",
              "      fill: #FFFFFF;\n",
              "    }\n",
              "  </style>\n",
              "\n",
              "      <script>\n",
              "        const buttonEl =\n",
              "          document.querySelector('#df-90a9e1bb-f018-4265-8042-5a5c1675f871 button.colab-df-convert');\n",
              "        buttonEl.style.display =\n",
              "          google.colab.kernel.accessAllowed ? 'block' : 'none';\n",
              "\n",
              "        async function convertToInteractive(key) {\n",
              "          const element = document.querySelector('#df-90a9e1bb-f018-4265-8042-5a5c1675f871');\n",
              "          const dataTable =\n",
              "            await google.colab.kernel.invokeFunction('convertToInteractive',\n",
              "                                                     [key], {});\n",
              "          if (!dataTable) return;\n",
              "\n",
              "          const docLinkHtml = 'Like what you see? Visit the ' +\n",
              "            '<a target=\"_blank\" href=https://colab.research.google.com/notebooks/data_table.ipynb>data table notebook</a>'\n",
              "            + ' to learn more about interactive tables.';\n",
              "          element.innerHTML = '';\n",
              "          dataTable['output_type'] = 'display_data';\n",
              "          await google.colab.output.renderOutput(dataTable, element);\n",
              "          const docLink = document.createElement('div');\n",
              "          docLink.innerHTML = docLinkHtml;\n",
              "          element.appendChild(docLink);\n",
              "        }\n",
              "      </script>\n",
              "    </div>\n",
              "  </div>\n",
              "  "
            ]
          },
          "metadata": {},
          "execution_count": 57
        }
      ]
    },
    {
      "cell_type": "markdown",
      "source": [
        "# **Using Apply with Dask**"
      ],
      "metadata": {
        "id": "A6TWkNsRQ136"
      }
    },
    {
      "cell_type": "code",
      "source": [
        "if DASK_IMPORTED == True :\n",
        "\n",
        "  ddf_transportation_cost_table = dask_transportation_cost_table_with_apply(ddf_rate_table, ddf_meter_list, ddf_forecast_table)\n",
        "  "
      ],
      "metadata": {
        "id": "CDBGi58PQ69a"
      },
      "execution_count": null,
      "outputs": []
    },
    {
      "cell_type": "code",
      "source": [
        "\n",
        "ddf_transportation_cost_table.head()"
      ],
      "metadata": {
        "colab": {
          "base_uri": "https://localhost:8080/",
          "height": 262
        },
        "id": "UrChI-NZGLCk",
        "outputId": "a175256e-9c0c-4619-c30d-98dc0fb95f68"
      },
      "execution_count": null,
      "outputs": [
        {
          "output_type": "stream",
          "name": "stderr",
          "text": [
            "/usr/local/lib/python3.7/dist-packages/dask/dataframe/core.py:5970: UserWarning: Insufficient elements for `head`. 5 elements requested, only 4 elements available. Try passing larger `npartitions` to `head`.\n",
            "  warnings.warn(msg.format(n, len(r)))\n"
          ]
        },
        {
          "output_type": "execute_result",
          "data": {
            "text/plain": [
              "             kwh    Cost£\n",
              "meter_id                 \n",
              "34509937   91.82   102.64\n",
              "50264822  311.45  1216.58\n",
              "88357331  567.88  3884.36\n",
              "14676236   33.97    13.84"
            ],
            "text/html": [
              "\n",
              "  <div id=\"df-4526921f-48fc-4729-93f8-26ab9d1db4bf\">\n",
              "    <div class=\"colab-df-container\">\n",
              "      <div>\n",
              "<style scoped>\n",
              "    .dataframe tbody tr th:only-of-type {\n",
              "        vertical-align: middle;\n",
              "    }\n",
              "\n",
              "    .dataframe tbody tr th {\n",
              "        vertical-align: top;\n",
              "    }\n",
              "\n",
              "    .dataframe thead th {\n",
              "        text-align: right;\n",
              "    }\n",
              "</style>\n",
              "<table border=\"1\" class=\"dataframe\">\n",
              "  <thead>\n",
              "    <tr style=\"text-align: right;\">\n",
              "      <th></th>\n",
              "      <th>kwh</th>\n",
              "      <th>Cost£</th>\n",
              "    </tr>\n",
              "    <tr>\n",
              "      <th>meter_id</th>\n",
              "      <th></th>\n",
              "      <th></th>\n",
              "    </tr>\n",
              "  </thead>\n",
              "  <tbody>\n",
              "    <tr>\n",
              "      <th>34509937</th>\n",
              "      <td>91.82</td>\n",
              "      <td>102.64</td>\n",
              "    </tr>\n",
              "    <tr>\n",
              "      <th>50264822</th>\n",
              "      <td>311.45</td>\n",
              "      <td>1216.58</td>\n",
              "    </tr>\n",
              "    <tr>\n",
              "      <th>88357331</th>\n",
              "      <td>567.88</td>\n",
              "      <td>3884.36</td>\n",
              "    </tr>\n",
              "    <tr>\n",
              "      <th>14676236</th>\n",
              "      <td>33.97</td>\n",
              "      <td>13.84</td>\n",
              "    </tr>\n",
              "  </tbody>\n",
              "</table>\n",
              "</div>\n",
              "      <button class=\"colab-df-convert\" onclick=\"convertToInteractive('df-4526921f-48fc-4729-93f8-26ab9d1db4bf')\"\n",
              "              title=\"Convert this dataframe to an interactive table.\"\n",
              "              style=\"display:none;\">\n",
              "        \n",
              "  <svg xmlns=\"http://www.w3.org/2000/svg\" height=\"24px\"viewBox=\"0 0 24 24\"\n",
              "       width=\"24px\">\n",
              "    <path d=\"M0 0h24v24H0V0z\" fill=\"none\"/>\n",
              "    <path d=\"M18.56 5.44l.94 2.06.94-2.06 2.06-.94-2.06-.94-.94-2.06-.94 2.06-2.06.94zm-11 1L8.5 8.5l.94-2.06 2.06-.94-2.06-.94L8.5 2.5l-.94 2.06-2.06.94zm10 10l.94 2.06.94-2.06 2.06-.94-2.06-.94-.94-2.06-.94 2.06-2.06.94z\"/><path d=\"M17.41 7.96l-1.37-1.37c-.4-.4-.92-.59-1.43-.59-.52 0-1.04.2-1.43.59L10.3 9.45l-7.72 7.72c-.78.78-.78 2.05 0 2.83L4 21.41c.39.39.9.59 1.41.59.51 0 1.02-.2 1.41-.59l7.78-7.78 2.81-2.81c.8-.78.8-2.07 0-2.86zM5.41 20L4 18.59l7.72-7.72 1.47 1.35L5.41 20z\"/>\n",
              "  </svg>\n",
              "      </button>\n",
              "      \n",
              "  <style>\n",
              "    .colab-df-container {\n",
              "      display:flex;\n",
              "      flex-wrap:wrap;\n",
              "      gap: 12px;\n",
              "    }\n",
              "\n",
              "    .colab-df-convert {\n",
              "      background-color: #E8F0FE;\n",
              "      border: none;\n",
              "      border-radius: 50%;\n",
              "      cursor: pointer;\n",
              "      display: none;\n",
              "      fill: #1967D2;\n",
              "      height: 32px;\n",
              "      padding: 0 0 0 0;\n",
              "      width: 32px;\n",
              "    }\n",
              "\n",
              "    .colab-df-convert:hover {\n",
              "      background-color: #E2EBFA;\n",
              "      box-shadow: 0px 1px 2px rgba(60, 64, 67, 0.3), 0px 1px 3px 1px rgba(60, 64, 67, 0.15);\n",
              "      fill: #174EA6;\n",
              "    }\n",
              "\n",
              "    [theme=dark] .colab-df-convert {\n",
              "      background-color: #3B4455;\n",
              "      fill: #D2E3FC;\n",
              "    }\n",
              "\n",
              "    [theme=dark] .colab-df-convert:hover {\n",
              "      background-color: #434B5C;\n",
              "      box-shadow: 0px 1px 3px 1px rgba(0, 0, 0, 0.15);\n",
              "      filter: drop-shadow(0px 1px 2px rgba(0, 0, 0, 0.3));\n",
              "      fill: #FFFFFF;\n",
              "    }\n",
              "  </style>\n",
              "\n",
              "      <script>\n",
              "        const buttonEl =\n",
              "          document.querySelector('#df-4526921f-48fc-4729-93f8-26ab9d1db4bf button.colab-df-convert');\n",
              "        buttonEl.style.display =\n",
              "          google.colab.kernel.accessAllowed ? 'block' : 'none';\n",
              "\n",
              "        async function convertToInteractive(key) {\n",
              "          const element = document.querySelector('#df-4526921f-48fc-4729-93f8-26ab9d1db4bf');\n",
              "          const dataTable =\n",
              "            await google.colab.kernel.invokeFunction('convertToInteractive',\n",
              "                                                     [key], {});\n",
              "          if (!dataTable) return;\n",
              "\n",
              "          const docLinkHtml = 'Like what you see? Visit the ' +\n",
              "            '<a target=\"_blank\" href=https://colab.research.google.com/notebooks/data_table.ipynb>data table notebook</a>'\n",
              "            + ' to learn more about interactive tables.';\n",
              "          element.innerHTML = '';\n",
              "          dataTable['output_type'] = 'display_data';\n",
              "          await google.colab.output.renderOutput(dataTable, element);\n",
              "          const docLink = document.createElement('div');\n",
              "          docLink.innerHTML = docLinkHtml;\n",
              "          element.appendChild(docLink);\n",
              "        }\n",
              "      </script>\n",
              "    </div>\n",
              "  </div>\n",
              "  "
            ]
          },
          "metadata": {},
          "execution_count": 71
        }
      ]
    },
    {
      "cell_type": "markdown",
      "source": [
        ""
      ],
      "metadata": {
        "id": "61yZTV0fGSDc"
      }
    },
    {
      "cell_type": "markdown",
      "source": [
        "# **Using Merges**"
      ],
      "metadata": {
        "id": "d293GDFB0Mda"
      }
    },
    {
      "cell_type": "code",
      "source": [
        "transportation_cost_table = transportation_cost_table_with_merge(df_rate_table, df_meter_list, df_forecast_table)\n",
        "transportation_cost_table.head()"
      ],
      "metadata": {
        "id": "W3zDHfrDb2DQ",
        "colab": {
          "base_uri": "https://localhost:8080/",
          "height": 206
        },
        "outputId": "4438d252-4908-4d5f-b916-d790a6aebe94"
      },
      "execution_count": null,
      "outputs": [
        {
          "output_type": "execute_result",
          "data": {
            "text/plain": [
              "             kwh    Cost£\n",
              "meter_id                 \n",
              "14676236   33.97    13.84\n",
              "34509937   91.82   102.64\n",
              "50264822  311.45  1216.58\n",
              "88357331  567.88  3884.36"
            ],
            "text/html": [
              "\n",
              "  <div id=\"df-671e8446-e4f8-42bf-8e3e-c66666a15d11\">\n",
              "    <div class=\"colab-df-container\">\n",
              "      <div>\n",
              "<style scoped>\n",
              "    .dataframe tbody tr th:only-of-type {\n",
              "        vertical-align: middle;\n",
              "    }\n",
              "\n",
              "    .dataframe tbody tr th {\n",
              "        vertical-align: top;\n",
              "    }\n",
              "\n",
              "    .dataframe thead th {\n",
              "        text-align: right;\n",
              "    }\n",
              "</style>\n",
              "<table border=\"1\" class=\"dataframe\">\n",
              "  <thead>\n",
              "    <tr style=\"text-align: right;\">\n",
              "      <th></th>\n",
              "      <th>kwh</th>\n",
              "      <th>Cost£</th>\n",
              "    </tr>\n",
              "    <tr>\n",
              "      <th>meter_id</th>\n",
              "      <th></th>\n",
              "      <th></th>\n",
              "    </tr>\n",
              "  </thead>\n",
              "  <tbody>\n",
              "    <tr>\n",
              "      <th>14676236</th>\n",
              "      <td>33.97</td>\n",
              "      <td>13.84</td>\n",
              "    </tr>\n",
              "    <tr>\n",
              "      <th>34509937</th>\n",
              "      <td>91.82</td>\n",
              "      <td>102.64</td>\n",
              "    </tr>\n",
              "    <tr>\n",
              "      <th>50264822</th>\n",
              "      <td>311.45</td>\n",
              "      <td>1216.58</td>\n",
              "    </tr>\n",
              "    <tr>\n",
              "      <th>88357331</th>\n",
              "      <td>567.88</td>\n",
              "      <td>3884.36</td>\n",
              "    </tr>\n",
              "  </tbody>\n",
              "</table>\n",
              "</div>\n",
              "      <button class=\"colab-df-convert\" onclick=\"convertToInteractive('df-671e8446-e4f8-42bf-8e3e-c66666a15d11')\"\n",
              "              title=\"Convert this dataframe to an interactive table.\"\n",
              "              style=\"display:none;\">\n",
              "        \n",
              "  <svg xmlns=\"http://www.w3.org/2000/svg\" height=\"24px\"viewBox=\"0 0 24 24\"\n",
              "       width=\"24px\">\n",
              "    <path d=\"M0 0h24v24H0V0z\" fill=\"none\"/>\n",
              "    <path d=\"M18.56 5.44l.94 2.06.94-2.06 2.06-.94-2.06-.94-.94-2.06-.94 2.06-2.06.94zm-11 1L8.5 8.5l.94-2.06 2.06-.94-2.06-.94L8.5 2.5l-.94 2.06-2.06.94zm10 10l.94 2.06.94-2.06 2.06-.94-2.06-.94-.94-2.06-.94 2.06-2.06.94z\"/><path d=\"M17.41 7.96l-1.37-1.37c-.4-.4-.92-.59-1.43-.59-.52 0-1.04.2-1.43.59L10.3 9.45l-7.72 7.72c-.78.78-.78 2.05 0 2.83L4 21.41c.39.39.9.59 1.41.59.51 0 1.02-.2 1.41-.59l7.78-7.78 2.81-2.81c.8-.78.8-2.07 0-2.86zM5.41 20L4 18.59l7.72-7.72 1.47 1.35L5.41 20z\"/>\n",
              "  </svg>\n",
              "      </button>\n",
              "      \n",
              "  <style>\n",
              "    .colab-df-container {\n",
              "      display:flex;\n",
              "      flex-wrap:wrap;\n",
              "      gap: 12px;\n",
              "    }\n",
              "\n",
              "    .colab-df-convert {\n",
              "      background-color: #E8F0FE;\n",
              "      border: none;\n",
              "      border-radius: 50%;\n",
              "      cursor: pointer;\n",
              "      display: none;\n",
              "      fill: #1967D2;\n",
              "      height: 32px;\n",
              "      padding: 0 0 0 0;\n",
              "      width: 32px;\n",
              "    }\n",
              "\n",
              "    .colab-df-convert:hover {\n",
              "      background-color: #E2EBFA;\n",
              "      box-shadow: 0px 1px 2px rgba(60, 64, 67, 0.3), 0px 1px 3px 1px rgba(60, 64, 67, 0.15);\n",
              "      fill: #174EA6;\n",
              "    }\n",
              "\n",
              "    [theme=dark] .colab-df-convert {\n",
              "      background-color: #3B4455;\n",
              "      fill: #D2E3FC;\n",
              "    }\n",
              "\n",
              "    [theme=dark] .colab-df-convert:hover {\n",
              "      background-color: #434B5C;\n",
              "      box-shadow: 0px 1px 3px 1px rgba(0, 0, 0, 0.15);\n",
              "      filter: drop-shadow(0px 1px 2px rgba(0, 0, 0, 0.3));\n",
              "      fill: #FFFFFF;\n",
              "    }\n",
              "  </style>\n",
              "\n",
              "      <script>\n",
              "        const buttonEl =\n",
              "          document.querySelector('#df-671e8446-e4f8-42bf-8e3e-c66666a15d11 button.colab-df-convert');\n",
              "        buttonEl.style.display =\n",
              "          google.colab.kernel.accessAllowed ? 'block' : 'none';\n",
              "\n",
              "        async function convertToInteractive(key) {\n",
              "          const element = document.querySelector('#df-671e8446-e4f8-42bf-8e3e-c66666a15d11');\n",
              "          const dataTable =\n",
              "            await google.colab.kernel.invokeFunction('convertToInteractive',\n",
              "                                                     [key], {});\n",
              "          if (!dataTable) return;\n",
              "\n",
              "          const docLinkHtml = 'Like what you see? Visit the ' +\n",
              "            '<a target=\"_blank\" href=https://colab.research.google.com/notebooks/data_table.ipynb>data table notebook</a>'\n",
              "            + ' to learn more about interactive tables.';\n",
              "          element.innerHTML = '';\n",
              "          dataTable['output_type'] = 'display_data';\n",
              "          await google.colab.output.renderOutput(dataTable, element);\n",
              "          const docLink = document.createElement('div');\n",
              "          docLink.innerHTML = docLinkHtml;\n",
              "          element.appendChild(docLink);\n",
              "        }\n",
              "      </script>\n",
              "    </div>\n",
              "  </div>\n",
              "  "
            ]
          },
          "metadata": {},
          "execution_count": 72
        }
      ]
    },
    {
      "cell_type": "markdown",
      "source": [
        "# **Using Merges with Dask**"
      ],
      "metadata": {
        "id": "WE1kR0SbHSjs"
      }
    },
    {
      "cell_type": "code",
      "source": [
        "if DASK_IMPORTED == True :\n",
        "\n",
        "  ddf_transportation_cost_table = dask_transportation_cost_table_with_merge(ddf_rate_table, ddf_meter_list, ddf_forecast_table)\n",
        "  ddf_transportation_cost_table.head()"
      ],
      "metadata": {
        "colab": {
          "base_uri": "https://localhost:8080/"
        },
        "id": "q7H3-39eHZ1s",
        "outputId": "7409339a-7466-4f9e-e9a3-2e56f2196e85"
      },
      "execution_count": null,
      "outputs": [
        {
          "output_type": "stream",
          "name": "stdout",
          "text": [
            "Index(['date', 'exit_zone', 'aq_kwh', 'date_rate'], dtype='object')\n"
          ]
        }
      ]
    },
    {
      "cell_type": "markdown",
      "source": [
        "# **SECOND EXERCISE**"
      ],
      "metadata": {
        "id": "Kv0aNF32WgzP"
      }
    },
    {
      "cell_type": "markdown",
      "source": [
        "# **Synthetic Meters Functions**"
      ],
      "metadata": {
        "id": "s6bm7mnMWoLV"
      }
    },
    {
      "cell_type": "code",
      "source": [
        "def ramdom_meter(row_meter, min_annual, max_annual, list_exit_zones):\n",
        "  exit_zone = random.choice(list_exit_zones)\n",
        "  #meter_id = random.choice(list_ids)\n",
        "  aq_kwh = random.randint(min_annual, max_annual)\n",
        "  row_meter['exit_zone'] = exit_zone\n",
        "  row_meter['aq_kwh'] = aq_kwh\n",
        "  return row_meter\n",
        "\n",
        "def synthetic_meter_df(minid, maxid, metersSize, rate_table):\n",
        "  meters_size = metersSize\n",
        "  min_id = minid\n",
        "  max_id = maxid\n",
        "  exit_zones_list = rate_table['exit_zone'].unique()\n",
        "  meter_id_list = random.sample(range(min_id, max_id), meters_size)\n",
        "  df_synth_meters = DataFrame(meter_id_list, columns = ['meter_id'])\n",
        "\n",
        "  #Adding the exit_code\n",
        "  df_synth_meters['exit_zone'] = ''\n",
        "  df_synth_meters['aq_kwh'] = 0.0\n",
        "  \n",
        "  df_synth_meters = df_synth_meters.apply(lambda x: ramdom_meter(row_meter = x, min_annual = 100, max_annual = 9999, list_exit_zones =  exit_zones_list), axis = 1)\n",
        "  return df_synth_meters\n",
        "\n",
        "\n"
      ],
      "metadata": {
        "id": "kcTCBKrPdocu"
      },
      "execution_count": null,
      "outputs": []
    },
    {
      "cell_type": "markdown",
      "source": [
        "# **Test**"
      ],
      "metadata": {
        "id": "Ft9Qkr2LW3YQ"
      }
    },
    {
      "cell_type": "code",
      "source": [
        "df_synth_meters = synthetic_meter_df(0, 999999, 10, df_rate_table)\n",
        "df_synth_meters.head()"
      ],
      "metadata": {
        "colab": {
          "base_uri": "https://localhost:8080/",
          "height": 206
        },
        "id": "r31mX6sEWx0E",
        "outputId": "32899b2b-864f-4582-8d60-593b7d45c170"
      },
      "execution_count": null,
      "outputs": [
        {
          "output_type": "execute_result",
          "data": {
            "text/plain": [
              "   meter_id exit_zone  aq_kwh\n",
              "0      1521       SW3    2377\n",
              "1    981773        LW    2820\n",
              "2    350479       NW2    8080\n",
              "3    191080       NE2    4047\n",
              "4    663973       SC4    8879"
            ],
            "text/html": [
              "\n",
              "  <div id=\"df-33faa1f1-0930-48be-93d2-b3d0251bcc0e\">\n",
              "    <div class=\"colab-df-container\">\n",
              "      <div>\n",
              "<style scoped>\n",
              "    .dataframe tbody tr th:only-of-type {\n",
              "        vertical-align: middle;\n",
              "    }\n",
              "\n",
              "    .dataframe tbody tr th {\n",
              "        vertical-align: top;\n",
              "    }\n",
              "\n",
              "    .dataframe thead th {\n",
              "        text-align: right;\n",
              "    }\n",
              "</style>\n",
              "<table border=\"1\" class=\"dataframe\">\n",
              "  <thead>\n",
              "    <tr style=\"text-align: right;\">\n",
              "      <th></th>\n",
              "      <th>meter_id</th>\n",
              "      <th>exit_zone</th>\n",
              "      <th>aq_kwh</th>\n",
              "    </tr>\n",
              "  </thead>\n",
              "  <tbody>\n",
              "    <tr>\n",
              "      <th>0</th>\n",
              "      <td>1521</td>\n",
              "      <td>SW3</td>\n",
              "      <td>2377</td>\n",
              "    </tr>\n",
              "    <tr>\n",
              "      <th>1</th>\n",
              "      <td>981773</td>\n",
              "      <td>LW</td>\n",
              "      <td>2820</td>\n",
              "    </tr>\n",
              "    <tr>\n",
              "      <th>2</th>\n",
              "      <td>350479</td>\n",
              "      <td>NW2</td>\n",
              "      <td>8080</td>\n",
              "    </tr>\n",
              "    <tr>\n",
              "      <th>3</th>\n",
              "      <td>191080</td>\n",
              "      <td>NE2</td>\n",
              "      <td>4047</td>\n",
              "    </tr>\n",
              "    <tr>\n",
              "      <th>4</th>\n",
              "      <td>663973</td>\n",
              "      <td>SC4</td>\n",
              "      <td>8879</td>\n",
              "    </tr>\n",
              "  </tbody>\n",
              "</table>\n",
              "</div>\n",
              "      <button class=\"colab-df-convert\" onclick=\"convertToInteractive('df-33faa1f1-0930-48be-93d2-b3d0251bcc0e')\"\n",
              "              title=\"Convert this dataframe to an interactive table.\"\n",
              "              style=\"display:none;\">\n",
              "        \n",
              "  <svg xmlns=\"http://www.w3.org/2000/svg\" height=\"24px\"viewBox=\"0 0 24 24\"\n",
              "       width=\"24px\">\n",
              "    <path d=\"M0 0h24v24H0V0z\" fill=\"none\"/>\n",
              "    <path d=\"M18.56 5.44l.94 2.06.94-2.06 2.06-.94-2.06-.94-.94-2.06-.94 2.06-2.06.94zm-11 1L8.5 8.5l.94-2.06 2.06-.94-2.06-.94L8.5 2.5l-.94 2.06-2.06.94zm10 10l.94 2.06.94-2.06 2.06-.94-2.06-.94-.94-2.06-.94 2.06-2.06.94z\"/><path d=\"M17.41 7.96l-1.37-1.37c-.4-.4-.92-.59-1.43-.59-.52 0-1.04.2-1.43.59L10.3 9.45l-7.72 7.72c-.78.78-.78 2.05 0 2.83L4 21.41c.39.39.9.59 1.41.59.51 0 1.02-.2 1.41-.59l7.78-7.78 2.81-2.81c.8-.78.8-2.07 0-2.86zM5.41 20L4 18.59l7.72-7.72 1.47 1.35L5.41 20z\"/>\n",
              "  </svg>\n",
              "      </button>\n",
              "      \n",
              "  <style>\n",
              "    .colab-df-container {\n",
              "      display:flex;\n",
              "      flex-wrap:wrap;\n",
              "      gap: 12px;\n",
              "    }\n",
              "\n",
              "    .colab-df-convert {\n",
              "      background-color: #E8F0FE;\n",
              "      border: none;\n",
              "      border-radius: 50%;\n",
              "      cursor: pointer;\n",
              "      display: none;\n",
              "      fill: #1967D2;\n",
              "      height: 32px;\n",
              "      padding: 0 0 0 0;\n",
              "      width: 32px;\n",
              "    }\n",
              "\n",
              "    .colab-df-convert:hover {\n",
              "      background-color: #E2EBFA;\n",
              "      box-shadow: 0px 1px 2px rgba(60, 64, 67, 0.3), 0px 1px 3px 1px rgba(60, 64, 67, 0.15);\n",
              "      fill: #174EA6;\n",
              "    }\n",
              "\n",
              "    [theme=dark] .colab-df-convert {\n",
              "      background-color: #3B4455;\n",
              "      fill: #D2E3FC;\n",
              "    }\n",
              "\n",
              "    [theme=dark] .colab-df-convert:hover {\n",
              "      background-color: #434B5C;\n",
              "      box-shadow: 0px 1px 3px 1px rgba(0, 0, 0, 0.15);\n",
              "      filter: drop-shadow(0px 1px 2px rgba(0, 0, 0, 0.3));\n",
              "      fill: #FFFFFF;\n",
              "    }\n",
              "  </style>\n",
              "\n",
              "      <script>\n",
              "        const buttonEl =\n",
              "          document.querySelector('#df-33faa1f1-0930-48be-93d2-b3d0251bcc0e button.colab-df-convert');\n",
              "        buttonEl.style.display =\n",
              "          google.colab.kernel.accessAllowed ? 'block' : 'none';\n",
              "\n",
              "        async function convertToInteractive(key) {\n",
              "          const element = document.querySelector('#df-33faa1f1-0930-48be-93d2-b3d0251bcc0e');\n",
              "          const dataTable =\n",
              "            await google.colab.kernel.invokeFunction('convertToInteractive',\n",
              "                                                     [key], {});\n",
              "          if (!dataTable) return;\n",
              "\n",
              "          const docLinkHtml = 'Like what you see? Visit the ' +\n",
              "            '<a target=\"_blank\" href=https://colab.research.google.com/notebooks/data_table.ipynb>data table notebook</a>'\n",
              "            + ' to learn more about interactive tables.';\n",
              "          element.innerHTML = '';\n",
              "          dataTable['output_type'] = 'display_data';\n",
              "          await google.colab.output.renderOutput(dataTable, element);\n",
              "          const docLink = document.createElement('div');\n",
              "          docLink.innerHTML = docLinkHtml;\n",
              "          element.appendChild(docLink);\n",
              "        }\n",
              "      </script>\n",
              "    </div>\n",
              "  </div>\n",
              "  "
            ]
          },
          "metadata": {},
          "execution_count": 76
        }
      ]
    },
    {
      "cell_type": "code",
      "source": [
        "print(df_synth_meters.columns)"
      ],
      "metadata": {
        "colab": {
          "base_uri": "https://localhost:8080/"
        },
        "id": "Ba4a_vEYxb21",
        "outputId": "b43be93f-f229-4b46-d8b9-e8ccb246ba76"
      },
      "execution_count": null,
      "outputs": [
        {
          "output_type": "stream",
          "name": "stdout",
          "text": [
            "Index(['meter_id', 'exit_zone', 'aq_kwh'], dtype='object')\n"
          ]
        }
      ]
    },
    {
      "cell_type": "markdown",
      "source": [
        "# **THIRD EXERCISE**"
      ],
      "metadata": {
        "id": "L4adzdh9ZPtC"
      }
    },
    {
      "cell_type": "markdown",
      "source": [
        "# **Synthetic Consumption Functions**"
      ],
      "metadata": {
        "id": "q9a7v8dbZUyD"
      }
    },
    {
      "cell_type": "code",
      "source": [
        "def date_range(start_date, days_duration):\n",
        "    dates = [start_date + timedelta(days=i) for i in range(days_duration + 1)]\n",
        "    return dates"
      ],
      "metadata": {
        "id": "b0r0Ftx_jNHb"
      },
      "execution_count": null,
      "outputs": []
    },
    {
      "cell_type": "code",
      "source": [
        "\n",
        "\n",
        "def ramdom_consum(row_forecast, min_consum, max_consum):\n",
        "  kwh = random.randint(min_consum, max_consum)\n",
        "  row_forecast['kwh'] = kwh\n",
        "  return row_forecast\n",
        "\n",
        "\n",
        "\n",
        "\n",
        "\n",
        "def mock_consumption_df(start_date, duration, meters_ids):\n",
        "\n",
        "  list_dates = date_range(start_date, duration)\n",
        "\n",
        "  df_meters_ids = DataFrame(meters_ids, columns = ['meter_id'])\n",
        "  df_dates = DataFrame(list_dates, columns = ['date'])\n",
        "  df_meters_ids['tmp'] = 1\n",
        "  df_dates['tmp'] = 1\n",
        "\n",
        "  df_synth_forecast = pd.merge(df_meters_ids,df_dates, on=['tmp'])\n",
        "  df_synth_forecast.drop('tmp', axis=1, inplace = True)\n",
        "\n",
        "\n",
        "  df_synth_forecast['kwh'] = 0.0\n",
        "  df_synth_forecast = df_synth_forecast.apply(lambda x: ramdom_consum(row_forecast = x, min_consum = 10, max_consum = 60), axis = 1)\n",
        "\n",
        "  return df_synth_forecast\n",
        "\n"
      ],
      "metadata": {
        "id": "Nlk92e_jj4d9"
      },
      "execution_count": null,
      "outputs": []
    },
    {
      "cell_type": "markdown",
      "source": [
        "# **Test**"
      ],
      "metadata": {
        "id": "xoCjny03Zi1_"
      }
    },
    {
      "cell_type": "code",
      "source": [
        "today = datetime.combine(date.today(), datetime.min.time())\n",
        "\n",
        "df_synth_forecast = mock_consumption_df(today, 10, df_synth_meters['meter_id'].unique()) \n",
        "df_synth_forecast.head()"
      ],
      "metadata": {
        "colab": {
          "base_uri": "https://localhost:8080/",
          "height": 206
        },
        "id": "JDGcyLcJZchs",
        "outputId": "ca7744ba-5453-4df2-a1e6-178dbf02f821"
      },
      "execution_count": null,
      "outputs": [
        {
          "output_type": "execute_result",
          "data": {
            "text/plain": [
              "   meter_id       date  kwh\n",
              "0      1521 2022-08-15   39\n",
              "1      1521 2022-08-16   24\n",
              "2      1521 2022-08-17   52\n",
              "3      1521 2022-08-18   54\n",
              "4      1521 2022-08-19   14"
            ],
            "text/html": [
              "\n",
              "  <div id=\"df-4cfcb83c-847c-4120-a5ab-24313ad2e21a\">\n",
              "    <div class=\"colab-df-container\">\n",
              "      <div>\n",
              "<style scoped>\n",
              "    .dataframe tbody tr th:only-of-type {\n",
              "        vertical-align: middle;\n",
              "    }\n",
              "\n",
              "    .dataframe tbody tr th {\n",
              "        vertical-align: top;\n",
              "    }\n",
              "\n",
              "    .dataframe thead th {\n",
              "        text-align: right;\n",
              "    }\n",
              "</style>\n",
              "<table border=\"1\" class=\"dataframe\">\n",
              "  <thead>\n",
              "    <tr style=\"text-align: right;\">\n",
              "      <th></th>\n",
              "      <th>meter_id</th>\n",
              "      <th>date</th>\n",
              "      <th>kwh</th>\n",
              "    </tr>\n",
              "  </thead>\n",
              "  <tbody>\n",
              "    <tr>\n",
              "      <th>0</th>\n",
              "      <td>1521</td>\n",
              "      <td>2022-08-15</td>\n",
              "      <td>39</td>\n",
              "    </tr>\n",
              "    <tr>\n",
              "      <th>1</th>\n",
              "      <td>1521</td>\n",
              "      <td>2022-08-16</td>\n",
              "      <td>24</td>\n",
              "    </tr>\n",
              "    <tr>\n",
              "      <th>2</th>\n",
              "      <td>1521</td>\n",
              "      <td>2022-08-17</td>\n",
              "      <td>52</td>\n",
              "    </tr>\n",
              "    <tr>\n",
              "      <th>3</th>\n",
              "      <td>1521</td>\n",
              "      <td>2022-08-18</td>\n",
              "      <td>54</td>\n",
              "    </tr>\n",
              "    <tr>\n",
              "      <th>4</th>\n",
              "      <td>1521</td>\n",
              "      <td>2022-08-19</td>\n",
              "      <td>14</td>\n",
              "    </tr>\n",
              "  </tbody>\n",
              "</table>\n",
              "</div>\n",
              "      <button class=\"colab-df-convert\" onclick=\"convertToInteractive('df-4cfcb83c-847c-4120-a5ab-24313ad2e21a')\"\n",
              "              title=\"Convert this dataframe to an interactive table.\"\n",
              "              style=\"display:none;\">\n",
              "        \n",
              "  <svg xmlns=\"http://www.w3.org/2000/svg\" height=\"24px\"viewBox=\"0 0 24 24\"\n",
              "       width=\"24px\">\n",
              "    <path d=\"M0 0h24v24H0V0z\" fill=\"none\"/>\n",
              "    <path d=\"M18.56 5.44l.94 2.06.94-2.06 2.06-.94-2.06-.94-.94-2.06-.94 2.06-2.06.94zm-11 1L8.5 8.5l.94-2.06 2.06-.94-2.06-.94L8.5 2.5l-.94 2.06-2.06.94zm10 10l.94 2.06.94-2.06 2.06-.94-2.06-.94-.94-2.06-.94 2.06-2.06.94z\"/><path d=\"M17.41 7.96l-1.37-1.37c-.4-.4-.92-.59-1.43-.59-.52 0-1.04.2-1.43.59L10.3 9.45l-7.72 7.72c-.78.78-.78 2.05 0 2.83L4 21.41c.39.39.9.59 1.41.59.51 0 1.02-.2 1.41-.59l7.78-7.78 2.81-2.81c.8-.78.8-2.07 0-2.86zM5.41 20L4 18.59l7.72-7.72 1.47 1.35L5.41 20z\"/>\n",
              "  </svg>\n",
              "      </button>\n",
              "      \n",
              "  <style>\n",
              "    .colab-df-container {\n",
              "      display:flex;\n",
              "      flex-wrap:wrap;\n",
              "      gap: 12px;\n",
              "    }\n",
              "\n",
              "    .colab-df-convert {\n",
              "      background-color: #E8F0FE;\n",
              "      border: none;\n",
              "      border-radius: 50%;\n",
              "      cursor: pointer;\n",
              "      display: none;\n",
              "      fill: #1967D2;\n",
              "      height: 32px;\n",
              "      padding: 0 0 0 0;\n",
              "      width: 32px;\n",
              "    }\n",
              "\n",
              "    .colab-df-convert:hover {\n",
              "      background-color: #E2EBFA;\n",
              "      box-shadow: 0px 1px 2px rgba(60, 64, 67, 0.3), 0px 1px 3px 1px rgba(60, 64, 67, 0.15);\n",
              "      fill: #174EA6;\n",
              "    }\n",
              "\n",
              "    [theme=dark] .colab-df-convert {\n",
              "      background-color: #3B4455;\n",
              "      fill: #D2E3FC;\n",
              "    }\n",
              "\n",
              "    [theme=dark] .colab-df-convert:hover {\n",
              "      background-color: #434B5C;\n",
              "      box-shadow: 0px 1px 3px 1px rgba(0, 0, 0, 0.15);\n",
              "      filter: drop-shadow(0px 1px 2px rgba(0, 0, 0, 0.3));\n",
              "      fill: #FFFFFF;\n",
              "    }\n",
              "  </style>\n",
              "\n",
              "      <script>\n",
              "        const buttonEl =\n",
              "          document.querySelector('#df-4cfcb83c-847c-4120-a5ab-24313ad2e21a button.colab-df-convert');\n",
              "        buttonEl.style.display =\n",
              "          google.colab.kernel.accessAllowed ? 'block' : 'none';\n",
              "\n",
              "        async function convertToInteractive(key) {\n",
              "          const element = document.querySelector('#df-4cfcb83c-847c-4120-a5ab-24313ad2e21a');\n",
              "          const dataTable =\n",
              "            await google.colab.kernel.invokeFunction('convertToInteractive',\n",
              "                                                     [key], {});\n",
              "          if (!dataTable) return;\n",
              "\n",
              "          const docLinkHtml = 'Like what you see? Visit the ' +\n",
              "            '<a target=\"_blank\" href=https://colab.research.google.com/notebooks/data_table.ipynb>data table notebook</a>'\n",
              "            + ' to learn more about interactive tables.';\n",
              "          element.innerHTML = '';\n",
              "          dataTable['output_type'] = 'display_data';\n",
              "          await google.colab.output.renderOutput(dataTable, element);\n",
              "          const docLink = document.createElement('div');\n",
              "          docLink.innerHTML = docLinkHtml;\n",
              "          element.appendChild(docLink);\n",
              "        }\n",
              "      </script>\n",
              "    </div>\n",
              "  </div>\n",
              "  "
            ]
          },
          "metadata": {},
          "execution_count": 79
        }
      ]
    },
    {
      "cell_type": "markdown",
      "source": [
        "# **FOURTH EXERCISE (Benchmark)**"
      ],
      "metadata": {
        "id": "nkBC_wtQZ22n"
      }
    },
    {
      "cell_type": "markdown",
      "source": [
        "# **Multiple mocks with several numbers of meters up to 300 and 175 days of duration**"
      ],
      "metadata": {
        "id": "7498CEakMDTr"
      }
    },
    {
      "cell_type": "code",
      "source": [
        "DURATION = 175\n",
        "MAX_NUMBERS_OF_METERS =300\n",
        "\n",
        "totalmeterListSizes = range(0,MAX_NUMBERS_OF_METERS)\n",
        "\n",
        "today = datetime.combine(date.today(), datetime.min.time())\n",
        "meterListSizes = random.choices(totalmeterListSizes, k=10)\n",
        "meterListSizes.sort()\n",
        "\n",
        "meters_df_l = []\n",
        "mock_consumption_df_l = [] \n",
        "\n",
        "meters_ddf_l = []\n",
        "mock_consumption_ddf_l = [] \n",
        "\n",
        "\n",
        "for listSize in meterListSizes:\n",
        "  df_synth_meters_op = synthetic_meter_df(0, 999999, listSize, df_rate_table)\n",
        "  df_synth_forecast = mock_consumption_df(today, DURATION, df_synth_meters_op['meter_id'].unique()) \n",
        "  \n",
        "  if DASK_IMPORTED == True :\n",
        "    ddf_synth_forecast = dd.from_pandas(df_synth_forecast, npartitions=10)\n",
        "    ddf_synth_meters_op = dd.from_pandas(df_synth_meters_op, npartitions=10)\n",
        "  \n",
        "  meters_df_l.append(df_synth_meters_op.copy())\n",
        "  mock_consumption_df_l.append(df_synth_forecast.copy())\n",
        "\n",
        "  if DASK_IMPORTED == True :\n",
        "    meters_ddf_l.append(ddf_synth_meters_op)\n",
        "    mock_consumption_ddf_l.append(ddf_synth_forecast)\n"
      ],
      "metadata": {
        "id": "zcKs48rUcZQ7"
      },
      "execution_count": null,
      "outputs": []
    },
    {
      "cell_type": "markdown",
      "source": [
        "# **GENERATING Transportation Cost Tables to capture TIMES FOR BENCHMARK**"
      ],
      "metadata": {
        "id": "ykXn7JVGQcNI"
      }
    },
    {
      "cell_type": "code",
      "source": [
        "from codetiming import Timer\n",
        "\n",
        "t_apply = Timer(name=\"Apply Function\", text=\"Apply Elapsed time: {milliseconds:.0f} ms\")\n",
        "t_dask_apply = Timer(name=\"Dask Apply Function\", text=\"Dask Apply Elapsed time: {milliseconds:.0f} ms\")\n",
        "t_merge = Timer(name=\"Merge Function\", text=\"Merge Elapsed time: {milliseconds:.0f} ms\")\n",
        "t_dask_merge = Timer(name=\"Dask Merge Function\", text=\"Dask Merge Elapsed time: {milliseconds:.0f} ms\")\n",
        "\n",
        "size = []\n",
        "time_merge = []\n",
        "time_dask_merge = []\n",
        "time_apply = []\n",
        "time_dask_apply = []\n",
        "\n",
        "for i in range(len(meters_df_l)):\n",
        "  t_merge.start()\n",
        "  transportation_cost_table_with_merge(df_rate_table , meters_df_l[i] , mock_consumption_df_l[i])\n",
        "  t_merge.stop()\n",
        "  time_merge.append(t_merge.last)\n",
        "  size.append(meters_df_l[i].shape[0])\n",
        "\n",
        "  if DASK_IMPORTED == True :  \n",
        "    t_dask_merge.start()\n",
        "    dask_transportation_cost_table_with_merge(ddf_rate_table , meters_ddf_l[i] , mock_consumption_ddf_l[i])\n",
        "    t_dask_merge.stop()\n",
        "    time_dask_merge.append(t_dask_merge.last)\n",
        "\n",
        "\n",
        "  t_apply.start()\n",
        "  transportation_cost_table_with_apply(df_rate_table , meters_df_l[i] , mock_consumption_df_l[i])\n",
        "  t_apply.stop()\n",
        "  time_apply.append(t_apply.last)\n",
        "\n",
        "  if DASK_IMPORTED == True :\n",
        "    t_dask_apply.start()\n",
        "    dask_transportation_cost_table_with_apply(ddf_rate_table , meters_ddf_l[i] , mock_consumption_ddf_l[i])\n",
        "    t_dask_apply.stop()\n",
        "    time_dask_apply.append(t_dask_apply.last)\n"
      ],
      "metadata": {
        "colab": {
          "base_uri": "https://localhost:8080/"
        },
        "id": "S-n5mNUJq9Mh",
        "outputId": "14e49539-9b57-402b-83cf-c4365f99a4f3"
      },
      "execution_count": null,
      "outputs": [
        {
          "output_type": "stream",
          "name": "stdout",
          "text": [
            "Merge Elapsed time: 145 ms\n",
            "Index(['date', 'exit_zone', 'aq_kwh', 'date_rate'], dtype='object')\n",
            "Dask Merge Elapsed time: 1604 ms\n",
            "Apply Elapsed time: 13414 ms\n",
            "Dask Apply Elapsed time: 49 ms\n",
            "Merge Elapsed time: 339 ms\n",
            "Index(['date', 'exit_zone', 'aq_kwh', 'date_rate'], dtype='object')\n",
            "Dask Merge Elapsed time: 1647 ms\n",
            "Apply Elapsed time: 44426 ms\n",
            "Dask Apply Elapsed time: 175 ms\n",
            "Merge Elapsed time: 1013 ms\n",
            "Index(['date', 'exit_zone', 'aq_kwh', 'date_rate'], dtype='object')\n",
            "Dask Merge Elapsed time: 1714 ms\n",
            "Apply Elapsed time: 68769 ms\n",
            "Dask Apply Elapsed time: 54 ms\n",
            "Merge Elapsed time: 547 ms\n",
            "Index(['date', 'exit_zone', 'aq_kwh', 'date_rate'], dtype='object')\n",
            "Dask Merge Elapsed time: 1709 ms\n",
            "Apply Elapsed time: 75836 ms\n",
            "Dask Apply Elapsed time: 61 ms\n",
            "Merge Elapsed time: 557 ms\n",
            "Index(['date', 'exit_zone', 'aq_kwh', 'date_rate'], dtype='object')\n",
            "Dask Merge Elapsed time: 2068 ms\n",
            "Apply Elapsed time: 72927 ms\n",
            "Dask Apply Elapsed time: 49 ms\n",
            "Merge Elapsed time: 663 ms\n",
            "Index(['date', 'exit_zone', 'aq_kwh', 'date_rate'], dtype='object')\n",
            "Dask Merge Elapsed time: 1747 ms\n",
            "Apply Elapsed time: 108685 ms\n",
            "Dask Apply Elapsed time: 48 ms\n",
            "Merge Elapsed time: 722 ms\n",
            "Index(['date', 'exit_zone', 'aq_kwh', 'date_rate'], dtype='object')\n",
            "Dask Merge Elapsed time: 1717 ms\n",
            "Apply Elapsed time: 97805 ms\n",
            "Dask Apply Elapsed time: 46 ms\n",
            "Merge Elapsed time: 795 ms\n",
            "Index(['date', 'exit_zone', 'aq_kwh', 'date_rate'], dtype='object')\n",
            "Dask Merge Elapsed time: 1750 ms\n",
            "Apply Elapsed time: 104361 ms\n",
            "Dask Apply Elapsed time: 46 ms\n",
            "Merge Elapsed time: 865 ms\n",
            "Index(['date', 'exit_zone', 'aq_kwh', 'date_rate'], dtype='object')\n",
            "Dask Merge Elapsed time: 2380 ms\n",
            "Apply Elapsed time: 109566 ms\n",
            "Dask Apply Elapsed time: 50 ms\n",
            "Merge Elapsed time: 896 ms\n",
            "Index(['date', 'exit_zone', 'aq_kwh', 'date_rate'], dtype='object')\n",
            "Dask Merge Elapsed time: 2362 ms\n",
            "Apply Elapsed time: 113766 ms\n",
            "Dask Apply Elapsed time: 52 ms\n"
          ]
        }
      ]
    },
    {
      "cell_type": "code",
      "source": [
        "from matplotlib.lines import Line2D\n",
        "import matplotlib.pyplot as plt\n",
        "\n",
        "time_merge_rounded_map = map(lambda x: round(x * 1000,2), time_merge)\n",
        "time_apply_rounded_map = map(lambda x: round(x * 1000,2), time_apply)\n",
        "time_dask_apply_rounded_map = map(lambda x:  round(x * 1000,2), time_dask_apply)\n",
        "\n",
        "time_merge_rounded = list(time_merge_rounded_map)\n",
        "time_apply_rounded = list(time_apply_rounded_map)\n",
        "time_dask_apply_rounded = list(time_dask_apply_rounded_map)\n",
        "\n",
        "# Plotting functions\n",
        "def plot_ax(ax):\n",
        "    ax.plot(size,  time_merge_rounded, 'r.', linewidth=.5, linestyle=\"--\")\n",
        "    ax.plot(size, time_apply_rounded, 'g.', linewidth=.5, linestyle=\"--\")\n",
        "    ax.plot(size, time_dask_apply_rounded, 'b.', linewidth=.5, linestyle=\"--\")\n",
        "\n",
        "\n",
        "\n",
        "def plot_performances():\n",
        "\n",
        "  # Draw the graph on two subplots\n",
        "  # Bottom graph is twice the size of the top one\n",
        "  fig, (ax1, ax2, ax3) = plt.subplots(3, 1, gridspec_kw={'height_ratios': [2,1.5, 0.5]}, figsize=(15, 10))\n",
        "  plot_ax(ax1)\n",
        "  plot_ax(ax2)\n",
        "  plot_ax(ax3)\n",
        "\n",
        "\n",
        "  # Changes graph axes\n",
        "  ax1.set_ylim(10000, 130000) # Top graph\n",
        "  ax2.set_ylim(100, 1200) # Bottom graph\n",
        "  ax3.set_ylim(40, 90) # Bottom graph\n",
        "\n",
        "\n",
        "\n",
        "  # Hides the spines between the axes\n",
        "  ax1.spines['bottom'].set_visible(False)\n",
        "  ax2.spines['top'].set_visible(False)\n",
        "  ax2.spines['bottom'].set_visible(False) \n",
        "  ax3.spines['top'].set_visible(False)\n",
        "\n",
        "  ax1.xaxis.tick_top()\n",
        "  ax1.tick_params(labeltop=False)  # Don't put tick labels at the top\n",
        "  ax2.tick_params(labelbottom=False, bottom=False)\n",
        "  #ax2.xaxis.tick_params(labeltop=False)\n",
        "  ax3.xaxis.tick_bottom()\n",
        "\n",
        "  #legend = ax1.legend(loc='upper left', shadow=True, fontsize='x-large')\n",
        "\n",
        "  # Put a nicer background color on the legend.\n",
        "  #legend.get_frame().set_facecolor('C0')\n",
        "\n",
        "  ax1.set_title('Time compsumption comparative', fontsize = 14, fontweight ='bold')\n",
        "  ax2.set_ylabel('Time consumption (ms)', fontweight ='bold')\n",
        "  ax3.set_xlabel('Number of meters', fontweight ='bold')\n",
        "\n",
        "   \n",
        " \n",
        "\n",
        "  # Adds slanted lines to axes\n",
        "  d = .5  # proportion of vertical to horizontal extent of the slanted line\n",
        "  kwargs = dict(\n",
        "    marker=[(-1, -d), (1, d)],\n",
        "    markersize=12,\n",
        "    linestyle='none',\n",
        "    color='k',\n",
        "    mec='k',\n",
        "    mew=1,\n",
        "    clip_on=False\n",
        "  )\n",
        "  ax1.plot([0, 1], [0, 0], transform=ax1.transAxes, **kwargs)\n",
        "  ax2.plot([0, 1], [1, 1], transform=ax2.transAxes, **kwargs)\n",
        "  ax2.plot([0, 1], [0, 0], transform=ax2.transAxes, **kwargs)\n",
        "  ax3.plot([0, 1], [1, 1], transform=ax3.transAxes, **kwargs)\n",
        "\n",
        "  colors = ['green', 'red', 'blue']\n",
        "  lines = [Line2D([0], [0], color=c, linewidth=3, linestyle='dotted') for c in colors]\n",
        "  labels = ['apply in Pandas', 'merge in Pandas', 'apply in Dask']\n",
        "  ax1.legend(lines, labels, loc=\"center right\")\n",
        "  plt.show()\n",
        "\n",
        "\n",
        "plot_performances()\n"
      ],
      "metadata": {
        "colab": {
          "base_uri": "https://localhost:8080/",
          "height": 623
        },
        "id": "t6gH-77R_6Tr",
        "outputId": "e7817a6e-abae-4aec-8002-8a58f46219b6"
      },
      "execution_count": null,
      "outputs": [
        {
          "output_type": "display_data",
          "data": {
            "text/plain": [
              "<Figure size 1080x720 with 3 Axes>"
            ],
            "image/png": "[encoded data removed]"
          },
          "metadata": {
            "needs_background": "light"
          }
        }
      ]
    },
    {
      "cell_type": "markdown",
      "source": [
        "# **FIFTH EXERCISE (Conclusions)**\n",
        "\n",
        "> Bloque con sangría\n",
        "\n"
      ],
      "metadata": {
        "id": "f5P5fo6Hw78y"
      }
    },
    {
      "cell_type": "markdown",
      "source": [
        "# **Summary <br>**\n",
        "As might be expected with the standard pandas library, the method that uses \"apply\" to search for the rate applied in the consumption table is more penalized and its behavior worsens with more slope the greater the number of elements that are treated. On the other hand, the method that also uses pandas but the \"merge\" option for rate assignment is much less penalized in terms of time than the previous one, but its behavior also worsens more pronouncedly the greater the number of elements that are treated. But the slope of this worsening is less than in the first case.\n",
        "\n",
        "On the contrary, the method that uses \"dask\" library has a better behavior in all cases, but it is especially optimal with the greater the number of elements. Even executing the apply method for the rate search, its behavior appears optimal when the number of elements is increased."
      ],
      "metadata": {
        "id": "AsYRGWU0w5QA"
      }
    },
    {
      "cell_type": "markdown",
      "source": [
        "# **Improvement options**\n",
        "Especially in the first two methods it is necessary to optimize the search for the tariff allocation. And try to correct the slope of worsening when the number of elements rises. It must be taken into account that the more elements there are to deal with, the more rate searches are carried out and therefore, since this operation is so numerous, the time in which we are able to execute it is also more critical.\n",
        "The second part in which the cost multiplications are performed is more optimized since pandas vectorization features are used."
      ],
      "metadata": {
        "id": "kd9VjviX0WE2"
      }
    },
    {
      "cell_type": "markdown",
      "source": [
        "# **Steps to make improvements**\n",
        "\n",
        "The first thing to improve is that you have to know what to improve. To be able to do this, what I am going to do is place meters (time and resource meters). I will use profilers to measure resources and timers to measure times. These meters have to be strategically placed, for this it will be necessary to segment the code more and probably divide it into more functions to facilitate this task.\n",
        "With these meters in place and executing the code with a sufficient number of elements, I will know which are the parts that are executed the most and that consume the most resources and time.\n",
        "With this data I will put specific solutions for each part that is most affected by performance."
      ],
      "metadata": {
        "id": "3YfsqGJe4S1x"
      }
    }
  ]
}